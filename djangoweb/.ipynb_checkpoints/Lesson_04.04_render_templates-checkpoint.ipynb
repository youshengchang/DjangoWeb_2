{
 "cells": [
  {
   "cell_type": "markdown",
   "metadata": {},
   "source": [
    "# Template Objects in Python"
   ]
  },
  {
   "cell_type": "markdown",
   "metadata": {},
   "source": [
    "## Introducting Template and Context via Direct Usage"
   ]
  },
  {
   "cell_type": "code",
   "execution_count": 1,
   "metadata": {},
   "outputs": [],
   "source": [
    "from django.template import Context, Template"
   ]
  },
  {
   "cell_type": "code",
   "execution_count": 2,
   "metadata": {},
   "outputs": [],
   "source": [
    "template = Template(\"{{ superhero }} is the very best superhero.\")"
   ]
  },
  {
   "cell_type": "code",
   "execution_count": 3,
   "metadata": {},
   "outputs": [
    {
     "data": {
      "text/plain": [
       "django.template.base.Template"
      ]
     },
     "execution_count": 3,
     "metadata": {},
     "output_type": "execute_result"
    }
   ],
   "source": [
    "type(template)"
   ]
  },
  {
   "cell_type": "code",
   "execution_count": 4,
   "metadata": {},
   "outputs": [
    {
     "data": {
      "text/plain": [
       "'batman is the very best superhero.'"
      ]
     },
     "execution_count": 4,
     "metadata": {},
     "output_type": "execute_result"
    }
   ],
   "source": [
    "context = Context({\"superhero\": \"batman\"})\n",
    "template.render(context)"
   ]
  },
  {
   "cell_type": "code",
   "execution_count": 5,
   "metadata": {},
   "outputs": [
    {
     "data": {
      "text/plain": [
       "'Wonder Woman is the very best superhero.'"
      ]
     },
     "execution_count": 5,
     "metadata": {},
     "output_type": "execute_result"
    }
   ],
   "source": [
    "# similar to f-strings in Python 3.6\n",
    "superhero = \"wonder woman\"\n",
    "# note the title method\n",
    "f\"{superhero.title()} is the very best superhero.\""
   ]
  },
  {
   "cell_type": "code",
   "execution_count": null,
   "metadata": {},
   "outputs": [],
   "source": [
    "# note the title filter\n",
    "template = Template(\"{{ superhero|title }} is the very best superhero.\")"
   ]
  },
  {
   "cell_type": "markdown",
   "metadata": {},
   "source": [
    "See [Django's documentation](https://docs.djangoproject.com/en/2.1/ref/templates/builtins/) for a full list of all the template filters available."
   ]
  },
  {
   "cell_type": "code",
   "execution_count": null,
   "metadata": {},
   "outputs": [],
   "source": [
    "template.render(context)"
   ]
  },
  {
   "cell_type": "code",
   "execution_count": null,
   "metadata": {},
   "outputs": [],
   "source": [
    "# reusable!\n",
    "template.render(Context({\"superhero\": \"superman\"}))"
   ]
  },
  {
   "cell_type": "code",
   "execution_count": null,
   "metadata": {},
   "outputs": [],
   "source": [
    "# however...\n",
    "template.render(Context())"
   ]
  },
  {
   "cell_type": "code",
   "execution_count": null,
   "metadata": {},
   "outputs": [],
   "source": [
    "# allows for keys and attributes\n",
    "template = Template(\n",
    "    \"{{ ml.exclaim }}!\\n\"\n",
    "    \"she said {{ ml.adverb }}\\n\"\n",
    "    \"as she jumped into her convertible {{ ml.noun1 }}\\n\"\n",
    "    \"and drove off with her {{ ml.noun2 }}.\\n\"\n",
    ")\n",
    "mad_lib = {\n",
    "    \"exclaim\": \"Ouch\",\n",
    "    \"adverb\": \"dutifully\",\n",
    "    \"noun1\": \"boat\",\n",
    "    \"noun2\": \"pineapple\",\n",
    "}\n",
    "context = Context({\"ml\": mad_lib})\n",
    "print(template.render(context))"
   ]
  },
  {
   "cell_type": "markdown",
   "metadata": {},
   "source": [
    "## Loading Templates from Disk"
   ]
  },
  {
   "cell_type": "code",
   "execution_count": null,
   "metadata": {},
   "outputs": [],
   "source": [
    "from django.template import loader"
   ]
  },
  {
   "cell_type": "code",
   "execution_count": null,
   "metadata": {},
   "outputs": [],
   "source": [
    "template = loader.get_template('tag/list.html')"
   ]
  },
  {
   "cell_type": "code",
   "execution_count": null,
   "metadata": {},
   "outputs": [],
   "source": [
    "type(template)  # slightly different type!\n",
    "# templates is section before were django.template.base.Template"
   ]
  },
  {
   "cell_type": "code",
   "execution_count": null,
   "metadata": {},
   "outputs": [],
   "source": [
    "best_list = [\n",
    "    {'name': 'Pirates'},\n",
    "    {'name': 'Ninjas'},\n",
    "    {'name': 'Cowboys'},\n",
    "]\n",
    "context = {'tag_list': best_list} # a plain Python dict!\n",
    "# as of Django 1.10, passing a Context instance is not longer supported\n",
    "print(template.render(context))"
   ]
  }
 ],
 "metadata": {
  "kernelspec": {
   "display_name": "Django Shell-Plus",
   "language": "python",
   "name": "django_extensions"
  },
  "language_info": {
   "codemirror_mode": {
    "name": "ipython",
    "version": 3
   },
   "file_extension": ".py",
   "mimetype": "text/x-python",
   "name": "python",
   "nbconvert_exporter": "python",
   "pygments_lexer": "ipython3",
   "version": "3.6.10"
  }
 },
 "nbformat": 4,
 "nbformat_minor": 2
}
