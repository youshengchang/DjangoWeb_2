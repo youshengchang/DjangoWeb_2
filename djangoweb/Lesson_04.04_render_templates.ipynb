{
 "cells": [
  {
   "cell_type": "markdown",
   "metadata": {},
   "source": [
    "# Template Objects in Python"
   ]
  },
  {
   "cell_type": "markdown",
   "metadata": {},
   "source": [
    "## Introducting Template and Context via Direct Usage"
   ]
  },
  {
   "cell_type": "code",
   "execution_count": 1,
   "metadata": {},
   "outputs": [],
   "source": [
    "from django.template import Context, Template"
   ]
  },
  {
   "cell_type": "code",
   "execution_count": 2,
   "metadata": {},
   "outputs": [],
   "source": [
    "template = Template(\"{{ superhero }} is the very best superhero.\")"
   ]
  },
  {
   "cell_type": "code",
   "execution_count": 3,
   "metadata": {},
   "outputs": [
    {
     "data": {
      "text/plain": [
       "django.template.base.Template"
      ]
     },
     "execution_count": 3,
     "metadata": {},
     "output_type": "execute_result"
    }
   ],
   "source": [
    "type(template)"
   ]
  },
  {
   "cell_type": "code",
   "execution_count": 4,
   "metadata": {},
   "outputs": [
    {
     "data": {
      "text/plain": [
       "'batman is the very best superhero.'"
      ]
     },
     "execution_count": 4,
     "metadata": {},
     "output_type": "execute_result"
    }
   ],
   "source": [
    "context = Context({\"superhero\": \"batman\"})\n",
    "template.render(context)"
   ]
  },
  {
   "cell_type": "code",
   "execution_count": 5,
   "metadata": {},
   "outputs": [
    {
     "data": {
      "text/plain": [
       "'Wonder Woman is the very best superhero.'"
      ]
     },
     "execution_count": 5,
     "metadata": {},
     "output_type": "execute_result"
    }
   ],
   "source": [
    "# similar to f-strings in Python 3.6\n",
    "superhero = \"wonder woman\"\n",
    "# note the title method\n",
    "f\"{superhero.title()} is the very best superhero.\""
   ]
  },
  {
   "cell_type": "code",
   "execution_count": 6,
   "metadata": {},
   "outputs": [],
   "source": [
    "# note the title filter\n",
    "template = Template(\"{{ superhero|title }} is the very best superhero.\")"
   ]
  },
  {
   "cell_type": "markdown",
   "metadata": {},
   "source": [
    "See [Django's documentation](https://docs.djangoproject.com/en/2.1/ref/templates/builtins/) for a full list of all the template filters available."
   ]
  },
  {
   "cell_type": "code",
   "execution_count": 7,
   "metadata": {},
   "outputs": [
    {
     "data": {
      "text/plain": [
       "'Batman is the very best superhero.'"
      ]
     },
     "execution_count": 7,
     "metadata": {},
     "output_type": "execute_result"
    }
   ],
   "source": [
    "template.render(context)"
   ]
  },
  {
   "cell_type": "code",
   "execution_count": 8,
   "metadata": {},
   "outputs": [
    {
     "data": {
      "text/plain": [
       "'Superman is the very best superhero.'"
      ]
     },
     "execution_count": 8,
     "metadata": {},
     "output_type": "execute_result"
    }
   ],
   "source": [
    "# reusable!\n",
    "template.render(Context({\"superhero\": \"superman\"}))"
   ]
  },
  {
   "cell_type": "code",
   "execution_count": 9,
   "metadata": {},
   "outputs": [
    {
     "data": {
      "text/plain": [
       "' is the very best superhero.'"
      ]
     },
     "execution_count": 9,
     "metadata": {},
     "output_type": "execute_result"
    }
   ],
   "source": [
    "# however...\n",
    "template.render(Context())"
   ]
  },
  {
   "cell_type": "code",
   "execution_count": 10,
   "metadata": {},
   "outputs": [
    {
     "name": "stdout",
     "output_type": "stream",
     "text": [
      "Ouch!\n",
      "she said dutifully\n",
      "as she jumped into her convertible boat\n",
      "and drove off with her pineapple.\n",
      "\n"
     ]
    }
   ],
   "source": [
    "# allows for keys and attributes\n",
    "template = Template(\n",
    "    \"{{ ml.exclaim }}!\\n\"\n",
    "    \"she said {{ ml.adverb }}\\n\"\n",
    "    \"as she jumped into her convertible {{ ml.noun1 }}\\n\"\n",
    "    \"and drove off with her {{ ml.noun2 }}.\\n\"\n",
    ")\n",
    "mad_lib = {\n",
    "    \"exclaim\": \"Ouch\",\n",
    "    \"adverb\": \"dutifully\",\n",
    "    \"noun1\": \"boat\",\n",
    "    \"noun2\": \"pineapple\",\n",
    "}\n",
    "context = Context({\"ml\": mad_lib})\n",
    "print(template.render(context))"
   ]
  },
  {
   "cell_type": "code",
   "execution_count": 15,
   "metadata": {},
   "outputs": [],
   "source": [
    "import os"
   ]
  },
  {
   "cell_type": "code",
   "execution_count": 16,
   "metadata": {},
   "outputs": [],
   "source": [
    "os.environ[\"DJANGO_ALLOW_ASYNC_UNSAFE\"] = \"true\""
   ]
  },
  {
   "cell_type": "markdown",
   "metadata": {},
   "source": [
    "## Loading Templates from Disk"
   ]
  },
  {
   "cell_type": "code",
   "execution_count": null,
   "metadata": {},
   "outputs": [],
   "source": []
  },
  {
   "cell_type": "code",
   "execution_count": null,
   "metadata": {},
   "outputs": [],
   "source": []
  },
  {
   "cell_type": "code",
   "execution_count": null,
   "metadata": {},
   "outputs": [],
   "source": []
  },
  {
   "cell_type": "code",
   "execution_count": null,
   "metadata": {},
   "outputs": [],
   "source": []
  },
  {
   "cell_type": "code",
   "execution_count": null,
   "metadata": {},
   "outputs": [],
   "source": []
  },
  {
   "cell_type": "code",
   "execution_count": null,
   "metadata": {},
   "outputs": [],
   "source": []
  },
  {
   "cell_type": "code",
   "execution_count": 25,
   "metadata": {},
   "outputs": [],
   "source": [
    "from django.template import loader"
   ]
  },
  {
   "cell_type": "code",
   "execution_count": 26,
   "metadata": {},
   "outputs": [],
   "source": [
    "template = loader.get_template('tag/list.html')"
   ]
  },
  {
   "cell_type": "code",
   "execution_count": 27,
   "metadata": {},
   "outputs": [
    {
     "data": {
      "text/plain": [
       "django.template.backends.django.Template"
      ]
     },
     "execution_count": 27,
     "metadata": {},
     "output_type": "execute_result"
    }
   ],
   "source": [
    "type(template)  # slightly different type!\n",
    "# templates is section before were django.template.base.Template"
   ]
  },
  {
   "cell_type": "code",
   "execution_count": 28,
   "metadata": {},
   "outputs": [
    {
     "name": "stdout",
     "output_type": "stream",
     "text": [
      "<!doctype html>\n",
      "<html lang=\"en-US\">\n",
      "  <head>\n",
      "    <meta charset=\"utf-8\">\n",
      "    <meta http-equiv=\"x-ua-compatible\" content=\"ie=edge\">\n",
      "    \n",
      "  </head>\n",
      "  <body>\n",
      "    <!--[if lte IE 9]>\n",
      "      <p class=\"browserupgrade\">\n",
      "        You are using an <strong>outdated</strong> browser. Please\n",
      "        <a href=\"https://browsehappy.com/\">upgrade your browser</a>\n",
      "        to improve your experience and security.\n",
      "      </p>\n",
      "    <![endif]-->\n",
      "    <nav>\n",
      "      <ul>\n",
      "        <li><a href=\"/tag/\">Tags</a></li>\n",
      "      </ul>\n",
      "    </nav>\n",
      "    \n",
      "  <h2>Tag List</h2>\n",
      "  \n",
      "  <ul>\n",
      "    \n",
      "      <li>\n",
      "        <a href=\"\">\n",
      "          Pirates</a>\n",
      "      </li>\n",
      "    \n",
      "      <li>\n",
      "        <a href=\"\">\n",
      "          Ninjas</a>\n",
      "      </li>\n",
      "    \n",
      "      <li>\n",
      "        <a href=\"\">\n",
      "          Cowboys</a>\n",
      "      </li>\n",
      "    \n",
      "  </ul>\n",
      "\n",
      "    <footer>\n",
      "      <p>\n",
      "        Built by\n",
      "        <a href=\"https://andrewsforge.com\">Andrew Pinkham</a>\n",
      "        under the\n",
      "        <a href=\"https://opensource.org/licenses/BSD-2-Clause\">\n",
      "          Simplified BSD License</a>.\n",
      "      </p>\n",
      "    <footer>\n",
      "  </body>\n",
      "</html>\n",
      "\n"
     ]
    }
   ],
   "source": [
    "best_list = [\n",
    "    {'name': 'Pirates'},\n",
    "    {'name': 'Ninjas'},\n",
    "    {'name': 'Cowboys'},\n",
    "]\n",
    "context = {'tag_list': best_list} # a plain Python dict!\n",
    "# as of Django 1.10, passing a Context instance is not longer supported\n",
    "print(template.render(context))"
   ]
  },
  {
   "cell_type": "code",
   "execution_count": null,
   "metadata": {},
   "outputs": [],
   "source": []
  },
  {
   "cell_type": "code",
   "execution_count": null,
   "metadata": {},
   "outputs": [],
   "source": []
  }
 ],
 "metadata": {
  "kernelspec": {
   "display_name": "Django Shell-Plus",
   "language": "python",
   "name": "django_extensions"
  },
  "language_info": {
   "codemirror_mode": {
    "name": "ipython",
    "version": 3
   },
   "file_extension": ".py",
   "mimetype": "text/x-python",
   "name": "python",
   "nbconvert_exporter": "python",
   "pygments_lexer": "ipython3",
   "version": "3.6.10"
  }
 },
 "nbformat": 4,
 "nbformat_minor": 2
}
