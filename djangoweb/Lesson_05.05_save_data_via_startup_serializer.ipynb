{
 "cells": [
  {
   "cell_type": "code",
   "execution_count": 10,
   "metadata": {},
   "outputs": [],
   "source": [
    "from datetime import date\n",
    "from pprint import pprint\n",
    "\n",
    "from django.test import RequestFactory\n",
    "\n",
    "from organizer.models import Startup, Tag\n",
    "from blog.models import Post\n",
    "from organizer.serializers import StartupSerializer\n",
    "from blog.serializers import PostSerializer\n",
    "import os"
   ]
  },
  {
   "cell_type": "code",
   "execution_count": 11,
   "metadata": {},
   "outputs": [],
   "source": [
    "os.environ[\"DJANGO_ALLOW_ASYNC_UNSAFE\"] = \"true\""
   ]
  },
  {
   "cell_type": "code",
   "execution_count": 12,
   "metadata": {},
   "outputs": [
    {
     "data": {
      "text/plain": [
       "<QuerySet []>"
      ]
     },
     "execution_count": 12,
     "metadata": {},
     "output_type": "execute_result"
    }
   ],
   "source": [
    "Post.objects.all()"
   ]
  },
  {
   "cell_type": "code",
   "execution_count": 3,
   "metadata": {},
   "outputs": [
    {
     "data": {
      "text/plain": [
       "(1,\n",
       " {'blog.Post_startups': 0,\n",
       "  'organizer.Startup_tags': 0,\n",
       "  'organizer.NewsLink': 0,\n",
       "  'organizer.Startup': 1})"
      ]
     },
     "execution_count": 3,
     "metadata": {},
     "output_type": "execute_result"
    }
   ],
   "source": [
    "# ensure we have a clean state\n",
    "#Tag.objects.filter(name__endswith=' tag').delete()\n",
    "Startup.objects.filter(slug=\"jambon-software-llc\").delete()"
   ]
  },
  {
   "cell_type": "code",
   "execution_count": 4,
   "metadata": {},
   "outputs": [],
   "source": [
    "s_startup = StartupSerializer(\n",
    "    data=dict(\n",
    "        name=\"JamBon Software LLC\",\n",
    "        slug=\"jambon-software-llc\",\n",
    "        description=\"Consulting & training for web and mobile products.\",\n",
    "        founded_date=date(2013, 1, 13),\n",
    "        contact=\"django@jambonsw.com\",  # not a real email\n",
    "        website=\"https://jambonsw.com\",\n",
    "        tags=[\n",
    "            {\"name\": \"newest tag\"},\n",
    "        ],\n",
    "    ),\n",
    "    context={\"request\": RequestFactory().get(\"/api/v1/startup/\")},\n",
    ")"
   ]
  },
  {
   "cell_type": "code",
   "execution_count": 5,
   "metadata": {},
   "outputs": [
    {
     "name": "stdout",
     "output_type": "stream",
     "text": [
      "6\n",
      "JamBon Software LLC\n",
      "<QuerySet []>\n"
     ]
    }
   ],
   "source": [
    "if s_startup.is_valid():\n",
    "    try:\n",
    "        startup = s_startup.save()\n",
    "    except AssertionError as err:\n",
    "        print(err)\n",
    "    else:\n",
    "        print(startup.pk)\n",
    "        print(startup.name)\n",
    "        print(startup.tags.all())\n",
    "else:\n",
    "    pprint(s_startup.errors)"
   ]
  },
  {
   "cell_type": "code",
   "execution_count": 6,
   "metadata": {},
   "outputs": [
    {
     "data": {
      "text/plain": [
       "<QuerySet [<Tag: django>, <Tag: django rest framework2>, <Tag: Mobile>, <Tag: newer tag2>, <Tag: newest tag>, <Tag: test1>, <Tag: Video Games>, <Tag: Web>]>"
      ]
     },
     "execution_count": 6,
     "metadata": {},
     "output_type": "execute_result"
    }
   ],
   "source": [
    "Tag.objects.all()"
   ]
  },
  {
   "cell_type": "code",
   "execution_count": 7,
   "metadata": {},
   "outputs": [
    {
     "data": {
      "text/plain": [
       "<QuerySet [<Tag: newest tag>]>"
      ]
     },
     "execution_count": 7,
     "metadata": {},
     "output_type": "execute_result"
    }
   ],
   "source": [
    "Tag.objects.filter(name__contains='newest')"
   ]
  },
  {
   "cell_type": "code",
   "execution_count": null,
   "metadata": {},
   "outputs": [],
   "source": []
  }
 ],
 "metadata": {
  "kernelspec": {
   "display_name": "Django Shell-Plus",
   "language": "python",
   "name": "django_extensions"
  },
  "language_info": {
   "codemirror_mode": {
    "name": "ipython",
    "version": 3
   },
   "file_extension": ".py",
   "mimetype": "text/x-python",
   "name": "python",
   "nbconvert_exporter": "python",
   "pygments_lexer": "ipython3",
   "version": "3.6.10"
  }
 },
 "nbformat": 4,
 "nbformat_minor": 2
}
