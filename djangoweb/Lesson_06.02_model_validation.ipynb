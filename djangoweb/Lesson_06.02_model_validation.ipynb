{
 "cells": [
  {
   "cell_type": "markdown",
   "metadata": {},
   "source": [
    "# Model Validation\n",
    "\n",
    "By default, Django does not use Model Validation (unless we use `ModelForm`).\n",
    "\n",
    "See: https://docs.djangoproject.com/en/2.1/ref/models/instances/#validating-objects"
   ]
  },
  {
   "cell_type": "code",
   "execution_count": 3,
   "metadata": {},
   "outputs": [],
   "source": [
    "from datetime import date\n",
    "from blog.models import Post\n",
    "import os"
   ]
  },
  {
   "cell_type": "code",
   "execution_count": 4,
   "metadata": {},
   "outputs": [],
   "source": [
    "os.environ[\"DJANGO_ALLOW_ASYNC_UNSAFE\"] = \"true\""
   ]
  },
  {
   "cell_type": "code",
   "execution_count": 5,
   "metadata": {},
   "outputs": [
    {
     "data": {
      "text/plain": [
       "<Post: Django Training on 2013-01-18>"
      ]
     },
     "execution_count": 5,
     "metadata": {},
     "output_type": "execute_result"
    }
   ],
   "source": [
    "# cleaup section below may be helpful!\n",
    "training_post = Post.objects.create(\n",
    "    title='Django Training',\n",
    "    slug='django-training',\n",
    "    pub_date=date(2013, 1, 18),\n",
    "    text=(\n",
    "        \"Learn Django in a classroom setting \"\n",
    "        \"with JamBon Software.\"),\n",
    ")\n",
    "training_post"
   ]
  },
  {
   "cell_type": "code",
   "execution_count": 6,
   "metadata": {},
   "outputs": [],
   "source": [
    "# uh-oh, we now have two Posts with the same URI!\n",
    "conflict = Post.objects.create(\n",
    "    title='Conflict',\n",
    "    slug=training_post.slug,\n",
    "    text=\"This object will cause problems.\",\n",
    "    pub_date=training_post.pub_date\n",
    ")\n",
    "# what happens if you try to use get_or_create above?"
   ]
  },
  {
   "cell_type": "code",
   "execution_count": 7,
   "metadata": {},
   "outputs": [
    {
     "data": {
      "text/plain": [
       "<QuerySet [<Post: Conflict on 2013-01-18>, <Post: Django Training on 2013-01-18>, <Post: Django Training on 2013-01-18>]>"
      ]
     },
     "execution_count": 7,
     "metadata": {},
     "output_type": "execute_result"
    }
   ],
   "source": [
    "Post.objects.all()"
   ]
  },
  {
   "cell_type": "code",
   "execution_count": 8,
   "metadata": {},
   "outputs": [
    {
     "name": "stdout",
     "output_type": "stream",
     "text": [
      "get() returned more than one Post -- it returned 3!\n"
     ]
    }
   ],
   "source": [
    "# this exception will be displayed at http://127.0.0.1:8000/blog/2013/1/django-training/\n",
    "try:\n",
    "    Post.objects.get(\n",
    "        pub_date__year=2013,\n",
    "        pub_date__month=1,\n",
    "        slug='django-training'\n",
    "    )\n",
    "except Post.MultipleObjectsReturned as e:\n",
    "    print(str(e))"
   ]
  },
  {
   "cell_type": "code",
   "execution_count": 9,
   "metadata": {},
   "outputs": [],
   "source": [
    "conflict2 = Post(\n",
    "    title='Conflict 2: The Return',\n",
    "    slug=training_post.slug,\n",
    "    text='More Problem Behavior in Theaters Soon!',\n",
    "    pub_date=training_post.pub_date\n",
    ")"
   ]
  },
  {
   "cell_type": "code",
   "execution_count": 10,
   "metadata": {},
   "outputs": [
    {
     "data": {
      "text/plain": [
       "<Post: Conflict 2: The Return on 2013-01-18>"
      ]
     },
     "execution_count": 10,
     "metadata": {},
     "output_type": "execute_result"
    }
   ],
   "source": [
    "conflict2"
   ]
  },
  {
   "cell_type": "code",
   "execution_count": 11,
   "metadata": {},
   "outputs": [
    {
     "name": "stdout",
     "output_type": "stream",
     "text": [
      "{'slug': ['Slug must be unique for Date published month.']}\n"
     ]
    }
   ],
   "source": [
    "from django.core.exceptions import ValidationError\n",
    "try:\n",
    "    conflict2.full_clean()\n",
    "except ValidationError as err:\n",
    "    print(str(err))"
   ]
  },
  {
   "cell_type": "markdown",
   "metadata": {},
   "source": [
    "# Cleanup"
   ]
  },
  {
   "cell_type": "code",
   "execution_count": 12,
   "metadata": {},
   "outputs": [
    {
     "data": {
      "text/plain": [
       "(5, {'blog.Post_tags': 1, 'blog.Post_startups': 1, 'blog.Post': 3})"
      ]
     },
     "execution_count": 12,
     "metadata": {},
     "output_type": "execute_result"
    }
   ],
   "source": [
    "Post.objects.filter(\n",
    "    pub_date__year=2013,\n",
    "    pub_date__month=1,\n",
    "    slug='django-training'\n",
    ").delete()"
   ]
  },
  {
   "cell_type": "code",
   "execution_count": 13,
   "metadata": {},
   "outputs": [
    {
     "data": {
      "text/plain": [
       "<QuerySet []>"
      ]
     },
     "execution_count": 13,
     "metadata": {},
     "output_type": "execute_result"
    }
   ],
   "source": [
    "Post.objects.all()"
   ]
  },
  {
   "cell_type": "code",
   "execution_count": null,
   "metadata": {},
   "outputs": [],
   "source": []
  }
 ],
 "metadata": {
  "kernelspec": {
   "display_name": "Django Shell-Plus",
   "language": "python",
   "name": "django_extensions"
  },
  "language_info": {
   "codemirror_mode": {
    "name": "ipython",
    "version": 3
   },
   "file_extension": ".py",
   "mimetype": "text/x-python",
   "name": "python",
   "nbconvert_exporter": "python",
   "pygments_lexer": "ipython3",
   "version": "3.6.10"
  }
 },
 "nbformat": 4,
 "nbformat_minor": 1
}
